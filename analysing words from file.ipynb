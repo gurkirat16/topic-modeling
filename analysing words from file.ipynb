{
 "cells": [
  {
   "cell_type": "code",
   "execution_count": 33,
   "metadata": {},
   "outputs": [
    {
     "name": "stderr",
     "output_type": "stream",
     "text": [
      "2018-02-17 14:48:41,670 : INFO : adding document #0 to Dictionary(0 unique tokens: [])\n",
      "2018-02-17 14:48:41,677 : INFO : built Dictionary(42 unique tokens: ['abc', 'applications', 'computer', 'for', 'human']...) from 9 documents (total 69 corpus positions)\n",
      "2018-02-17 14:48:41,683 : INFO : saving Dictionary object under dictionary.dict, separately None\n",
      "2018-02-17 14:48:41,694 : INFO : saved dictionary.dict\n"
     ]
    },
    {
     "name": "stdout",
     "output_type": "stream",
     "text": [
      "********The dictionary*******\n",
      "{'computer': 0,\n",
      " 'eps': 8,\n",
      " 'graph': 10,\n",
      " 'human': 1,\n",
      " 'interface': 2,\n",
      " 'minors': 11,\n",
      " 'response': 3,\n",
      " 'survey': 4,\n",
      " 'system': 5,\n",
      " 'time': 6,\n",
      " 'trees': 9,\n",
      " 'user': 7}\n",
      "The memory on which corpus is stored is:\n",
      "<__main__.MyCorpus object at 0x0000021B216B12E8>\n",
      "\n",
      "********The corpus********\n",
      "[(0, 1), (1, 1), (2, 1)]\n",
      "[(0, 1), (3, 1), (4, 1), (5, 1), (6, 1), (7, 1)]\n",
      "[(2, 1), (5, 1), (7, 1), (8, 1)]\n",
      "[(1, 1), (5, 2), (8, 1)]\n",
      "[(3, 1), (6, 1), (7, 1)]\n",
      "[(9, 1)]\n",
      "[(9, 1), (10, 1)]\n",
      "[(9, 1), (10, 1), (11, 1)]\n",
      "[(4, 1), (10, 1), (11, 1)]\n"
     ]
    }
   ],
   "source": [
    "import logging\n",
    "from pprint import pprint\n",
    "from six import iteritems\n",
    "from gensim import corpora\n",
    "\n",
    "logging.basicConfig(format='%(asctime)s : %(levelname)s : %(message)s', level=logging.INFO)\n",
    "\n",
    "\n",
    "class MyCorpus(object):\n",
    "    def __init__(self, text_file='C:\\\\Users\\\\chaitanya\\\\Desktop\\\\mycorpus.txt', dictionary=None):\n",
    "        \"\"\"\n",
    "        Checks if a dictionary has been given as a parameter.\n",
    "        If no dictionary has been given, it creates one and saves it in the disk.\n",
    "        \"\"\"\n",
    "        self.file_name = text_file\n",
    "        if dictionary is None:\n",
    "            self.prepare_dictionary()\n",
    "        else:\n",
    "            self.dictionary = dictionary\n",
    "\n",
    "    def __iter__(self):\n",
    "        for line in open(self.file_name):\n",
    "            # assume there's one document per line, tokens separated by whitespace\n",
    "            yield self.dictionary.doc2bow(line.lower().split())\n",
    "\n",
    "    def prepare_dictionary(self):\n",
    "        stop_list = set('for a of the and to in'.split())  # List of stop words which can also be loaded from a file.\n",
    "\n",
    "        # Creating a dictionary using stored the text file and the Dictionary class defined by Gensim.\n",
    "        self.dictionary = corpora.Dictionary(line.lower().split() for line in open(self.file_name))\n",
    "\n",
    "        # Collecting the id's of the tokens which exist in the stop-list\n",
    "        stop_ids = [self.dictionary.token2id[stop_word] for stop_word in stop_list if\n",
    "                    stop_word in self.dictionary.token2id]\n",
    "\n",
    "        # Collecting the id's of the token which appear only once\n",
    "        once_ids = [token_id for token_id, doc_freq in iteritems(self.dictionary.dfs) if doc_freq == 1]\n",
    "\n",
    "        # Removing the unwanted tokens using collected id's\n",
    "        self.dictionary.filter_tokens(stop_ids + once_ids)\n",
    "\n",
    "        # Saving dictionary in the disk for later use:\n",
    "        self.dictionary.save('dictionary.dict')\n",
    "\n",
    "my_memory_fiendly_corpus = MyCorpus()\n",
    "\n",
    "# Saving the corpus\n",
    "# corpora.MmCorpus.serialize('corpus.mm', my_memory_fiendly_corpus)\n",
    "\n",
    "# To load the saved corpus:\n",
    "# corpus = corpora.MmCorpus('corpus.mm')\n",
    "\n",
    "print('********The dictionary*******')\n",
    "pprint(my_memory_fiendly_corpus.dictionary.token2id)\n",
    "print(\"The memory on which corpus is stored is:\")\n",
    "print(my_memory_fiendly_corpus)\n",
    "print('\\n********The corpus********')\n",
    "for vector in my_memory_fiendly_corpus:\n",
    "    print(vector)"
   ]
  },
  {
   "cell_type": "code",
   "execution_count": null,
   "metadata": {},
   "outputs": [],
   "source": []
  }
 ],
 "metadata": {
  "kernelspec": {
   "display_name": "Python 3",
   "language": "python",
   "name": "python3"
  },
  "language_info": {
   "codemirror_mode": {
    "name": "ipython",
    "version": 3
   },
   "file_extension": ".py",
   "mimetype": "text/x-python",
   "name": "python",
   "nbconvert_exporter": "python",
   "pygments_lexer": "ipython3",
   "version": "3.6.3"
  }
 },
 "nbformat": 4,
 "nbformat_minor": 2
}
